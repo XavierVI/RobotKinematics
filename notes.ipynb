{
 "cells": [
  {
   "cell_type": "markdown",
   "metadata": {},
   "source": [
    "## Using Eigen to Represent Coordiante Frames and Homogeneous Transformation Matrices"
   ]
  },
  {
   "cell_type": "markdown",
   "metadata": {},
   "source": [
    "Eigen is a library used to create and perform operations on matrices and vectors.\n",
    "\n",
    "For our arm, we need to create a screw-axis list and homogenous transformation matrix to represent the arm in it's home position.\n",
    "\n",
    "We will be using the interbotix px100 as an example"
   ]
  },
  {
   "cell_type": "markdown",
   "metadata": {},
   "source": []
  }
 ],
 "metadata": {
  "language_info": {
   "name": "python"
  }
 },
 "nbformat": 4,
 "nbformat_minor": 2
}
